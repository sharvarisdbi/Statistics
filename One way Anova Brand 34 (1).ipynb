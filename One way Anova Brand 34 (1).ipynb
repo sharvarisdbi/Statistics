{
 "cells": [
  {
   "cell_type": "markdown",
   "metadata": {},
   "source": [
    "## ONE-WAY ANOVA"
   ]
  },
  {
   "cell_type": "code",
   "execution_count": 1,
   "metadata": {},
   "outputs": [
    {
     "name": "stderr",
     "output_type": "stream",
     "text": [
      "C:\\Users\\SHARVARI AVHAD\\AppData\\Roaming\\Python\\Python38\\site-packages\\outdated\\utils.py:14: OutdatedPackageWarning: The package pingouin is out of date. Your version is 0.3.10, the latest is 0.3.11.\n",
      "Set the environment variable OUTDATED_IGNORE=1 to disable these warnings.\n",
      "  return warn(\n"
     ]
    }
   ],
   "source": [
    "# Importing Libraries\n",
    "\n",
    "import pandas as pd\n",
    "import researchpy as rp\n",
    "import pingouin as pg\n",
    "import scipy.stats as stats\n",
    "import statsmodels.stats.multicomp as mc"
   ]
  },
  {
   "cell_type": "code",
   "execution_count": 2,
   "metadata": {},
   "outputs": [],
   "source": [
    "df = pd.read_csv(r'C:\\Users\\SHARVARI AVHAD\\Desktop\\Inferential Statistics\\Statistics.csv')"
   ]
  },
  {
   "cell_type": "code",
   "execution_count": 3,
   "metadata": {},
   "outputs": [
    {
     "name": "stdout",
     "output_type": "stream",
     "text": [
      "<class 'pandas.core.frame.DataFrame'>\n",
      "RangeIndex: 151 entries, 0 to 150\n",
      "Data columns (total 15 columns):\n",
      " #   Column                         Non-Null Count  Dtype \n",
      "---  ------                         --------------  ----- \n",
      " 0   Age Group                      151 non-null    object\n",
      " 1   Gender                         151 non-null    object\n",
      " 2   Profession                     151 non-null    object\n",
      " 3   Better Service Provider        151 non-null    object\n",
      " 4   Pocket friendly Service        151 non-null    object\n",
      " 5   Cashless transactions problem  151 non-null    object\n",
      " 6   Daily_spendings                151 non-null    int64 \n",
      " 7   Monthly_spending               151 non-null    int64 \n",
      " 8   Quality decider attribute      151 non-null    object\n",
      " 9   Frequency of booking           151 non-null    object\n",
      " 10  Most usage day                 151 non-null    object\n",
      " 11  Punctual service               151 non-null    object\n",
      " 12  Offer provider                 151 non-null    object\n",
      " 13  Fast connector to driver       151 non-null    object\n",
      " 14  Faster issue resolver          151 non-null    object\n",
      "dtypes: int64(2), object(13)\n",
      "memory usage: 10.1+ KB\n"
     ]
    }
   ],
   "source": [
    "df.info()"
   ]
  },
  {
   "cell_type": "markdown",
   "metadata": {},
   "source": [
    "# EDA on Data"
   ]
  },
  {
   "cell_type": "code",
   "execution_count": 4,
   "metadata": {},
   "outputs": [
    {
     "name": "stdout",
     "output_type": "stream",
     "text": [
      "\n",
      "\n"
     ]
    },
    {
     "data": {
      "text/html": [
       "<div>\n",
       "<style scoped>\n",
       "    .dataframe tbody tr th:only-of-type {\n",
       "        vertical-align: middle;\n",
       "    }\n",
       "\n",
       "    .dataframe tbody tr th {\n",
       "        vertical-align: top;\n",
       "    }\n",
       "\n",
       "    .dataframe thead th {\n",
       "        text-align: right;\n",
       "    }\n",
       "</style>\n",
       "<table border=\"1\" class=\"dataframe\">\n",
       "  <thead>\n",
       "    <tr style=\"text-align: right;\">\n",
       "      <th></th>\n",
       "      <th>Variable</th>\n",
       "      <th>N</th>\n",
       "      <th>Mean</th>\n",
       "      <th>SD</th>\n",
       "      <th>SE</th>\n",
       "      <th>95% Conf.</th>\n",
       "      <th>Interval</th>\n",
       "    </tr>\n",
       "  </thead>\n",
       "  <tbody>\n",
       "    <tr>\n",
       "      <th>0</th>\n",
       "      <td>Monthly_spending</td>\n",
       "      <td>151.0</td>\n",
       "      <td>1351.6159</td>\n",
       "      <td>1306.0078</td>\n",
       "      <td>106.2814</td>\n",
       "      <td>1141.6139</td>\n",
       "      <td>1561.6179</td>\n",
       "    </tr>\n",
       "  </tbody>\n",
       "</table>\n",
       "</div>"
      ],
      "text/plain": [
       "           Variable      N       Mean         SD        SE  95% Conf.  \\\n",
       "0  Monthly_spending  151.0  1351.6159  1306.0078  106.2814  1141.6139   \n",
       "\n",
       "    Interval  \n",
       "0  1561.6179  "
      ]
     },
     "execution_count": 4,
     "metadata": {},
     "output_type": "execute_result"
    }
   ],
   "source": [
    "rp.summary_cont(df['Monthly_spending'])"
   ]
  },
  {
   "cell_type": "code",
   "execution_count": 5,
   "metadata": {},
   "outputs": [
    {
     "name": "stdout",
     "output_type": "stream",
     "text": [
      "\n",
      "\n"
     ]
    },
    {
     "data": {
      "text/html": [
       "<div>\n",
       "<style scoped>\n",
       "    .dataframe tbody tr th:only-of-type {\n",
       "        vertical-align: middle;\n",
       "    }\n",
       "\n",
       "    .dataframe tbody tr th {\n",
       "        vertical-align: top;\n",
       "    }\n",
       "\n",
       "    .dataframe thead th {\n",
       "        text-align: right;\n",
       "    }\n",
       "</style>\n",
       "<table border=\"1\" class=\"dataframe\">\n",
       "  <thead>\n",
       "    <tr style=\"text-align: right;\">\n",
       "      <th></th>\n",
       "      <th>N</th>\n",
       "      <th>Mean</th>\n",
       "      <th>SD</th>\n",
       "      <th>SE</th>\n",
       "      <th>95% Conf.</th>\n",
       "      <th>Interval</th>\n",
       "    </tr>\n",
       "    <tr>\n",
       "      <th>Age Group</th>\n",
       "      <th></th>\n",
       "      <th></th>\n",
       "      <th></th>\n",
       "      <th></th>\n",
       "      <th></th>\n",
       "      <th></th>\n",
       "    </tr>\n",
       "  </thead>\n",
       "  <tbody>\n",
       "    <tr>\n",
       "      <th>15 - 30</th>\n",
       "      <td>131</td>\n",
       "      <td>1265.6412</td>\n",
       "      <td>1297.3792</td>\n",
       "      <td>113.3525</td>\n",
       "      <td>1041.3868</td>\n",
       "      <td>1489.8957</td>\n",
       "    </tr>\n",
       "    <tr>\n",
       "      <th>30 - 50</th>\n",
       "      <td>12</td>\n",
       "      <td>1741.2500</td>\n",
       "      <td>1405.3342</td>\n",
       "      <td>405.6850</td>\n",
       "      <td>848.3433</td>\n",
       "      <td>2634.1567</td>\n",
       "    </tr>\n",
       "    <tr>\n",
       "      <th>50 +</th>\n",
       "      <td>8</td>\n",
       "      <td>2175.0000</td>\n",
       "      <td>1006.7628</td>\n",
       "      <td>355.9444</td>\n",
       "      <td>1333.3252</td>\n",
       "      <td>3016.6748</td>\n",
       "    </tr>\n",
       "  </tbody>\n",
       "</table>\n",
       "</div>"
      ],
      "text/plain": [
       "             N       Mean         SD        SE  95% Conf.   Interval\n",
       "Age Group                                                           \n",
       "15 - 30    131  1265.6412  1297.3792  113.3525  1041.3868  1489.8957\n",
       "30 - 50     12  1741.2500  1405.3342  405.6850   848.3433  2634.1567\n",
       "50 +         8  2175.0000  1006.7628  355.9444  1333.3252  3016.6748"
      ]
     },
     "execution_count": 5,
     "metadata": {},
     "output_type": "execute_result"
    }
   ],
   "source": [
    "rp.summary_cont(df['Monthly_spending'].groupby(df['Age Group']))"
   ]
  },
  {
   "cell_type": "markdown",
   "metadata": {},
   "source": [
    "# One-Way Anova"
   ]
  },
  {
   "cell_type": "markdown",
   "metadata": {},
   "source": [
    "* H0:- There is no significant difference between the Age Group with respect to Monthly Spending\n",
    "\n",
    "* H1:- There is  significant difference between the Age Group with respect to Monthly Spending"
   ]
  },
  {
   "cell_type": "code",
   "execution_count": 6,
   "metadata": {},
   "outputs": [
    {
     "name": "stdout",
     "output_type": "stream",
     "text": [
      "      Source            SS   DF            MS       F     p-unc       np2\n",
      "0  Age Group  8.213773e+06    2  4.106887e+06  2.4545  0.089397  0.032104\n",
      "1     Within  2.476347e+08  148  1.673207e+06     NaN       NaN       NaN\n"
     ]
    }
   ],
   "source": [
    "sv = pg.anova(data=df, dv='Monthly_spending', between='Age Group', detailed=True)\n",
    "print(sv)"
   ]
  },
  {
   "cell_type": "code",
   "execution_count": 7,
   "metadata": {},
   "outputs": [
    {
     "data": {
      "text/plain": [
       "F_onewayResult(statistic=2.454499631099305, pvalue=0.0893967097209779)"
      ]
     },
     "execution_count": 7,
     "metadata": {},
     "output_type": "execute_result"
    }
   ],
   "source": [
    "stats.f_oneway(df['Monthly_spending'][df['Age Group'] == '15 - 30'],\n",
    "               df['Monthly_spending'][df['Age Group'] == '30 - 50'],\n",
    "               df['Monthly_spending'][df['Age Group'] == '50 +'])"
   ]
  },
  {
   "cell_type": "markdown",
   "metadata": {},
   "source": [
    "### Conslusion\n",
    "\n",
    "*  There is significant difference between the Age Group with respect to Monthly Spending"
   ]
  },
  {
   "cell_type": "markdown",
   "metadata": {},
   "source": [
    "# Assumptions of ANOVA"
   ]
  },
  {
   "cell_type": "markdown",
   "metadata": {},
   "source": [
    "#### Levene Test - It is used to check the equality of Variance between the Brand (Treatment) or Homogeneity of Variance\n",
    "\n",
    "* H0:- There is no significant difference between the Age Group with respect to Monthly Spending\n",
    "\n",
    "* H1:- There is  significant difference between the Age Group with respect to Monthly Spending"
   ]
  },
  {
   "cell_type": "code",
   "execution_count": 9,
   "metadata": {},
   "outputs": [
    {
     "data": {
      "text/plain": [
       "LeveneResult(statistic=0.3720239949007035, pvalue=0.6899804813517034)"
      ]
     },
     "execution_count": 9,
     "metadata": {},
     "output_type": "execute_result"
    }
   ],
   "source": [
    "stats.levene(df['Monthly_spending'][df['Age Group'] == '15 - 30'],\n",
    "               df['Monthly_spending'][df['Age Group'] == '30 - 50'],\n",
    "               df['Monthly_spending'][df['Age Group'] == '50 +'])"
   ]
  },
  {
   "cell_type": "markdown",
   "metadata": {},
   "source": [
    "### Conslusion\n",
    "* There is no significant difference between the Age Group with respect to Monthly Spendin"
   ]
  },
  {
   "cell_type": "code",
   "execution_count": 10,
   "metadata": {},
   "outputs": [
    {
     "data": {
      "text/html": [
       "<table class=\"simpletable\">\n",
       "<caption>Multiple Comparison of Means - Tukey HSD, FWER=0.05</caption>\n",
       "<tr>\n",
       "  <th>group1</th>  <th>group2</th>  <th>meandiff</th>  <th>p-adj</th>   <th>lower</th>     <th>upper</th>   <th>reject</th>\n",
       "</tr>\n",
       "<tr>\n",
       "  <td>15 - 30</td> <td>30 - 50</td> <td>475.6088</td> <td>0.4456</td> <td>-448.1212</td> <td>1399.3388</td>  <td>False</td>\n",
       "</tr>\n",
       "<tr>\n",
       "  <td>15 - 30</td>  <td>50 +</td>   <td>909.3588</td> <td>0.1338</td> <td>-206.0397</td> <td>2024.7573</td>  <td>False</td>\n",
       "</tr>\n",
       "<tr>\n",
       "  <td>30 - 50</td>  <td>50 +</td>    <td>433.75</td>  <td>0.7245</td> <td>-964.1712</td> <td>1831.6712</td>  <td>False</td>\n",
       "</tr>\n",
       "</table>"
      ],
      "text/plain": [
       "<class 'statsmodels.iolib.table.SimpleTable'>"
      ]
     },
     "execution_count": 10,
     "metadata": {},
     "output_type": "execute_result"
    }
   ],
   "source": [
    "comp = mc.MultiComparison(df['Monthly_spending'], df['Age Group'])\n",
    "post_hoc_res = comp.tukeyhsd()\n",
    "post_hoc_res.summary()"
   ]
  }
 ],
 "metadata": {
  "kernelspec": {
   "display_name": "Python 3",
   "language": "python",
   "name": "python3"
  },
  "language_info": {
   "codemirror_mode": {
    "name": "ipython",
    "version": 3
   },
   "file_extension": ".py",
   "mimetype": "text/x-python",
   "name": "python",
   "nbconvert_exporter": "python",
   "pygments_lexer": "ipython3",
   "version": "3.8.3"
  }
 },
 "nbformat": 4,
 "nbformat_minor": 4
}
