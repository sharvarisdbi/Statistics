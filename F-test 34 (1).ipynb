{
 "cells": [
  {
   "cell_type": "markdown",
   "metadata": {},
   "source": [
    "## F-TEST "
   ]
  },
  {
   "cell_type": "code",
   "execution_count": 1,
   "metadata": {},
   "outputs": [],
   "source": [
    "# Importing Libraries\n",
    "\n",
    "import pandas as pd\n",
    "import numpy as np\n",
    "import scipy.stats"
   ]
  },
  {
   "cell_type": "code",
   "execution_count": 2,
   "metadata": {},
   "outputs": [],
   "source": [
    "def f_test(x, y):\n",
    "    x = np.array(x)\n",
    "    y = np.array(y)\n",
    "    f = np.var(x, ddof=1)/np.var(y, ddof=1) \n",
    "    dfn = x.size-1 \n",
    "    dfd = y.size-1\n",
    "    p = 1-scipy.stats.f.cdf(f, dfn, dfd)  \n",
    "    return (f, p)"
   ]
  },
  {
   "cell_type": "code",
   "execution_count": 3,
   "metadata": {},
   "outputs": [],
   "source": [
    "df = pd.read_csv(r'C:\\Users\\SHARVARI AVHAD\\Desktop\\Inferential Statistics\\Statistics.csv')"
   ]
  },
  {
   "cell_type": "code",
   "execution_count": 4,
   "metadata": {},
   "outputs": [
    {
     "data": {
      "text/html": [
       "<div>\n",
       "<style scoped>\n",
       "    .dataframe tbody tr th:only-of-type {\n",
       "        vertical-align: middle;\n",
       "    }\n",
       "\n",
       "    .dataframe tbody tr th {\n",
       "        vertical-align: top;\n",
       "    }\n",
       "\n",
       "    .dataframe thead th {\n",
       "        text-align: right;\n",
       "    }\n",
       "</style>\n",
       "<table border=\"1\" class=\"dataframe\">\n",
       "  <thead>\n",
       "    <tr style=\"text-align: right;\">\n",
       "      <th></th>\n",
       "      <th>Age Group</th>\n",
       "      <th>Gender</th>\n",
       "      <th>Profession</th>\n",
       "      <th>Better Service Provider</th>\n",
       "      <th>Pocket friendly Service</th>\n",
       "      <th>Cashless transactions problem</th>\n",
       "      <th>Daily_spendings</th>\n",
       "      <th>Monthly_spending</th>\n",
       "      <th>Quality decider attribute</th>\n",
       "      <th>Frequency of booking</th>\n",
       "      <th>Most usage day</th>\n",
       "      <th>Punctual service</th>\n",
       "      <th>Offer provider</th>\n",
       "      <th>Fast connector to driver</th>\n",
       "      <th>Faster issue resolver</th>\n",
       "    </tr>\n",
       "  </thead>\n",
       "  <tbody>\n",
       "    <tr>\n",
       "      <th>0</th>\n",
       "      <td>15 - 30</td>\n",
       "      <td>Female</td>\n",
       "      <td>Student</td>\n",
       "      <td>Ola</td>\n",
       "      <td>Ola</td>\n",
       "      <td>Never faced this issue</td>\n",
       "      <td>200</td>\n",
       "      <td>2000</td>\n",
       "      <td>Most</td>\n",
       "      <td>2-3 times in a month</td>\n",
       "      <td>Weekends</td>\n",
       "      <td>Ola</td>\n",
       "      <td>Uber</td>\n",
       "      <td>Ola</td>\n",
       "      <td>Uber</td>\n",
       "    </tr>\n",
       "    <tr>\n",
       "      <th>1</th>\n",
       "      <td>15 - 30</td>\n",
       "      <td>Female</td>\n",
       "      <td>Student</td>\n",
       "      <td>Ola</td>\n",
       "      <td>Ola</td>\n",
       "      <td>More often in Uber</td>\n",
       "      <td>100</td>\n",
       "      <td>1500</td>\n",
       "      <td>Pricing</td>\n",
       "      <td>Only on special occasions</td>\n",
       "      <td>Weekends</td>\n",
       "      <td>Ola</td>\n",
       "      <td>Uber</td>\n",
       "      <td>Both equally</td>\n",
       "      <td>Never faced any issue</td>\n",
       "    </tr>\n",
       "    <tr>\n",
       "      <th>2</th>\n",
       "      <td>15 - 30</td>\n",
       "      <td>Male</td>\n",
       "      <td>Student</td>\n",
       "      <td>Both provide equal quality</td>\n",
       "      <td>Uber</td>\n",
       "      <td>Faced this issue equally in both</td>\n",
       "      <td>50</td>\n",
       "      <td>1000</td>\n",
       "      <td>Driver's behaviour</td>\n",
       "      <td>Only on special occasions</td>\n",
       "      <td>Weekends</td>\n",
       "      <td>Both equally</td>\n",
       "      <td>Ola</td>\n",
       "      <td>Both equally</td>\n",
       "      <td>Never faced any issue</td>\n",
       "    </tr>\n",
       "    <tr>\n",
       "      <th>3</th>\n",
       "      <td>15 - 30</td>\n",
       "      <td>Male</td>\n",
       "      <td>Student</td>\n",
       "      <td>Ola</td>\n",
       "      <td>Uber</td>\n",
       "      <td>Never faced this issue</td>\n",
       "      <td>200</td>\n",
       "      <td>1000</td>\n",
       "      <td>Driver's behaviour</td>\n",
       "      <td>Only on special occasions</td>\n",
       "      <td>Weekdays</td>\n",
       "      <td>Both equally</td>\n",
       "      <td>None</td>\n",
       "      <td>Ola</td>\n",
       "      <td>Never faced any issue</td>\n",
       "    </tr>\n",
       "    <tr>\n",
       "      <th>4</th>\n",
       "      <td>15 - 30</td>\n",
       "      <td>Female</td>\n",
       "      <td>Student</td>\n",
       "      <td>Both provide equal quality</td>\n",
       "      <td>Uber</td>\n",
       "      <td>Never faced this issue</td>\n",
       "      <td>100</td>\n",
       "      <td>500</td>\n",
       "      <td>Driver's behaviour</td>\n",
       "      <td>2-3 times in a month</td>\n",
       "      <td>Weekends</td>\n",
       "      <td>Both equally</td>\n",
       "      <td>Ola</td>\n",
       "      <td>Both equally</td>\n",
       "      <td>Never faced any issue</td>\n",
       "    </tr>\n",
       "  </tbody>\n",
       "</table>\n",
       "</div>"
      ],
      "text/plain": [
       "  Age Group  Gender Profession     Better Service Provider  \\\n",
       "0   15 - 30  Female    Student                         Ola   \n",
       "1   15 - 30  Female    Student                         Ola   \n",
       "2   15 - 30    Male    Student  Both provide equal quality   \n",
       "3   15 - 30    Male    Student                         Ola   \n",
       "4   15 - 30  Female    Student  Both provide equal quality   \n",
       "\n",
       "  Pocket friendly Service     Cashless transactions problem  Daily_spendings  \\\n",
       "0                     Ola            Never faced this issue              200   \n",
       "1                     Ola                More often in Uber              100   \n",
       "2                    Uber  Faced this issue equally in both               50   \n",
       "3                    Uber            Never faced this issue              200   \n",
       "4                    Uber            Never faced this issue              100   \n",
       "\n",
       "   Monthly_spending Quality decider attribute      Frequency of booking   \\\n",
       "0              2000                      Most       2-3 times in a month   \n",
       "1              1500                   Pricing  Only on special occasions   \n",
       "2              1000        Driver's behaviour  Only on special occasions   \n",
       "3              1000        Driver's behaviour  Only on special occasions   \n",
       "4               500        Driver's behaviour       2-3 times in a month   \n",
       "\n",
       "  Most usage day Punctual service Offer provider Fast connector to driver  \\\n",
       "0       Weekends              Ola           Uber                      Ola   \n",
       "1       Weekends              Ola           Uber             Both equally   \n",
       "2       Weekends     Both equally            Ola             Both equally   \n",
       "3       Weekdays     Both equally           None                      Ola   \n",
       "4       Weekends     Both equally            Ola             Both equally   \n",
       "\n",
       "   Faster issue resolver  \n",
       "0                   Uber  \n",
       "1  Never faced any issue  \n",
       "2  Never faced any issue  \n",
       "3  Never faced any issue  \n",
       "4  Never faced any issue  "
      ]
     },
     "execution_count": 4,
     "metadata": {},
     "output_type": "execute_result"
    }
   ],
   "source": [
    "df.head()"
   ]
  },
  {
   "cell_type": "code",
   "execution_count": 5,
   "metadata": {},
   "outputs": [
    {
     "data": {
      "text/plain": [
       "Daily_spendings      174.834437\n",
       "Monthly_spending    1351.615894\n",
       "dtype: float64"
      ]
     },
     "execution_count": 5,
     "metadata": {},
     "output_type": "execute_result"
    }
   ],
   "source": [
    "df.mean()"
   ]
  },
  {
   "cell_type": "markdown",
   "metadata": {},
   "source": [
    "### Hypothesis\n",
    "\n",
    "* H0 :- There is no significant difference between Daily Spendings and Monthly spending\n",
    "* H1 :- There is significant difference between Daily Spendings and Monthly spending"
   ]
  },
  {
   "cell_type": "code",
   "execution_count": 6,
   "metadata": {},
   "outputs": [
    {
     "data": {
      "text/plain": [
       "(0.021494641941026068, 1.0)"
      ]
     },
     "execution_count": 6,
     "metadata": {},
     "output_type": "execute_result"
    }
   ],
   "source": [
    "f_test(df.Daily_spendings, df.Monthly_spending)"
   ]
  },
  {
   "cell_type": "markdown",
   "metadata": {},
   "source": [
    "### Conclusion\n",
    "\n",
    "* There is significant difference between Daily Spendings and Monthly spending"
   ]
  }
 ],
 "metadata": {
  "kernelspec": {
   "display_name": "Python 3",
   "language": "python",
   "name": "python3"
  },
  "language_info": {
   "codemirror_mode": {
    "name": "ipython",
    "version": 3
   },
   "file_extension": ".py",
   "mimetype": "text/x-python",
   "name": "python",
   "nbconvert_exporter": "python",
   "pygments_lexer": "ipython3",
   "version": "3.8.3"
  }
 },
 "nbformat": 4,
 "nbformat_minor": 4
}
