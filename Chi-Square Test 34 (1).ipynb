{
 "cells": [
  {
   "cell_type": "markdown",
   "metadata": {},
   "source": [
    "# Chi-square Test\n",
    "\n",
    "* Chi-square Test of Independence / Association\n",
    "* Chi-square Test of Goodness of fit\n",
    "* Chi-square Test of Homogeneity"
   ]
  },
  {
   "cell_type": "code",
   "execution_count": 1,
   "metadata": {},
   "outputs": [],
   "source": [
    "# Importing Libraries\n",
    "\n",
    "import pandas as pd\n",
    "import numpy as np\n",
    "from scipy.stats  import chi2_contingency\n",
    "import researchpy as rp\n",
    "from scipy import stats"
   ]
  },
  {
   "cell_type": "code",
   "execution_count": 2,
   "metadata": {},
   "outputs": [],
   "source": [
    "df = pd.read_csv(r'C:\\Users\\SHARVARI AVHAD\\Desktop\\Inferential Statistics\\Statistics.csv')"
   ]
  },
  {
   "cell_type": "code",
   "execution_count": 3,
   "metadata": {},
   "outputs": [
    {
     "data": {
      "text/html": [
       "<div>\n",
       "<style scoped>\n",
       "    .dataframe tbody tr th:only-of-type {\n",
       "        vertical-align: middle;\n",
       "    }\n",
       "\n",
       "    .dataframe tbody tr th {\n",
       "        vertical-align: top;\n",
       "    }\n",
       "\n",
       "    .dataframe thead th {\n",
       "        text-align: right;\n",
       "    }\n",
       "</style>\n",
       "<table border=\"1\" class=\"dataframe\">\n",
       "  <thead>\n",
       "    <tr style=\"text-align: right;\">\n",
       "      <th></th>\n",
       "      <th>Age Group</th>\n",
       "      <th>Gender</th>\n",
       "      <th>Profession</th>\n",
       "      <th>Better Service Provider</th>\n",
       "      <th>Pocket friendly Service</th>\n",
       "      <th>Cashless transactions problem</th>\n",
       "      <th>Daily_spendings</th>\n",
       "      <th>Monthly_spending</th>\n",
       "      <th>Quality decider attribute</th>\n",
       "      <th>Frequency of booking</th>\n",
       "      <th>Most usage day</th>\n",
       "      <th>Punctual service</th>\n",
       "      <th>Offer provider</th>\n",
       "      <th>Fast connector to driver</th>\n",
       "      <th>Faster issue resolver</th>\n",
       "    </tr>\n",
       "  </thead>\n",
       "  <tbody>\n",
       "    <tr>\n",
       "      <th>0</th>\n",
       "      <td>15 - 30</td>\n",
       "      <td>Female</td>\n",
       "      <td>Student</td>\n",
       "      <td>Ola</td>\n",
       "      <td>Ola</td>\n",
       "      <td>Never faced this issue</td>\n",
       "      <td>200</td>\n",
       "      <td>2000</td>\n",
       "      <td>Most</td>\n",
       "      <td>2-3 times in a month</td>\n",
       "      <td>Weekends</td>\n",
       "      <td>Ola</td>\n",
       "      <td>Uber</td>\n",
       "      <td>Ola</td>\n",
       "      <td>Uber</td>\n",
       "    </tr>\n",
       "    <tr>\n",
       "      <th>1</th>\n",
       "      <td>15 - 30</td>\n",
       "      <td>Female</td>\n",
       "      <td>Student</td>\n",
       "      <td>Ola</td>\n",
       "      <td>Ola</td>\n",
       "      <td>More often in Uber</td>\n",
       "      <td>100</td>\n",
       "      <td>1500</td>\n",
       "      <td>Pricing</td>\n",
       "      <td>Only on special occasions</td>\n",
       "      <td>Weekends</td>\n",
       "      <td>Ola</td>\n",
       "      <td>Uber</td>\n",
       "      <td>Both equally</td>\n",
       "      <td>Never faced any issue</td>\n",
       "    </tr>\n",
       "    <tr>\n",
       "      <th>2</th>\n",
       "      <td>15 - 30</td>\n",
       "      <td>Male</td>\n",
       "      <td>Student</td>\n",
       "      <td>Both provide equal quality</td>\n",
       "      <td>Uber</td>\n",
       "      <td>Faced this issue equally in both</td>\n",
       "      <td>50</td>\n",
       "      <td>1000</td>\n",
       "      <td>Driver's behaviour</td>\n",
       "      <td>Only on special occasions</td>\n",
       "      <td>Weekends</td>\n",
       "      <td>Both equally</td>\n",
       "      <td>Ola</td>\n",
       "      <td>Both equally</td>\n",
       "      <td>Never faced any issue</td>\n",
       "    </tr>\n",
       "    <tr>\n",
       "      <th>3</th>\n",
       "      <td>15 - 30</td>\n",
       "      <td>Male</td>\n",
       "      <td>Student</td>\n",
       "      <td>Ola</td>\n",
       "      <td>Uber</td>\n",
       "      <td>Never faced this issue</td>\n",
       "      <td>200</td>\n",
       "      <td>1000</td>\n",
       "      <td>Driver's behaviour</td>\n",
       "      <td>Only on special occasions</td>\n",
       "      <td>Weekdays</td>\n",
       "      <td>Both equally</td>\n",
       "      <td>None</td>\n",
       "      <td>Ola</td>\n",
       "      <td>Never faced any issue</td>\n",
       "    </tr>\n",
       "    <tr>\n",
       "      <th>4</th>\n",
       "      <td>15 - 30</td>\n",
       "      <td>Female</td>\n",
       "      <td>Student</td>\n",
       "      <td>Both provide equal quality</td>\n",
       "      <td>Uber</td>\n",
       "      <td>Never faced this issue</td>\n",
       "      <td>100</td>\n",
       "      <td>500</td>\n",
       "      <td>Driver's behaviour</td>\n",
       "      <td>2-3 times in a month</td>\n",
       "      <td>Weekends</td>\n",
       "      <td>Both equally</td>\n",
       "      <td>Ola</td>\n",
       "      <td>Both equally</td>\n",
       "      <td>Never faced any issue</td>\n",
       "    </tr>\n",
       "  </tbody>\n",
       "</table>\n",
       "</div>"
      ],
      "text/plain": [
       "  Age Group  Gender Profession     Better Service Provider  \\\n",
       "0   15 - 30  Female    Student                         Ola   \n",
       "1   15 - 30  Female    Student                         Ola   \n",
       "2   15 - 30    Male    Student  Both provide equal quality   \n",
       "3   15 - 30    Male    Student                         Ola   \n",
       "4   15 - 30  Female    Student  Both provide equal quality   \n",
       "\n",
       "  Pocket friendly Service     Cashless transactions problem  Daily_spendings  \\\n",
       "0                     Ola            Never faced this issue              200   \n",
       "1                     Ola                More often in Uber              100   \n",
       "2                    Uber  Faced this issue equally in both               50   \n",
       "3                    Uber            Never faced this issue              200   \n",
       "4                    Uber            Never faced this issue              100   \n",
       "\n",
       "   Monthly_spending Quality decider attribute      Frequency of booking   \\\n",
       "0              2000                      Most       2-3 times in a month   \n",
       "1              1500                   Pricing  Only on special occasions   \n",
       "2              1000        Driver's behaviour  Only on special occasions   \n",
       "3              1000        Driver's behaviour  Only on special occasions   \n",
       "4               500        Driver's behaviour       2-3 times in a month   \n",
       "\n",
       "  Most usage day Punctual service Offer provider Fast connector to driver  \\\n",
       "0       Weekends              Ola           Uber                      Ola   \n",
       "1       Weekends              Ola           Uber             Both equally   \n",
       "2       Weekends     Both equally            Ola             Both equally   \n",
       "3       Weekdays     Both equally           None                      Ola   \n",
       "4       Weekends     Both equally            Ola             Both equally   \n",
       "\n",
       "   Faster issue resolver  \n",
       "0                   Uber  \n",
       "1  Never faced any issue  \n",
       "2  Never faced any issue  \n",
       "3  Never faced any issue  \n",
       "4  Never faced any issue  "
      ]
     },
     "execution_count": 3,
     "metadata": {},
     "output_type": "execute_result"
    }
   ],
   "source": [
    "df.head()"
   ]
  },
  {
   "cell_type": "code",
   "execution_count": 4,
   "metadata": {},
   "outputs": [
    {
     "data": {
      "text/plain": [
       "Index(['Age Group', 'Gender', 'Profession', 'Better Service Provider',\n",
       "       'Pocket friendly Service', 'Cashless transactions problem',\n",
       "       'Daily_spendings', 'Monthly_spending', 'Quality decider attribute',\n",
       "       'Frequency of booking ', 'Most usage day', 'Punctual service',\n",
       "       'Offer provider', 'Fast connector to driver', 'Faster issue resolver'],\n",
       "      dtype='object')"
      ]
     },
     "execution_count": 4,
     "metadata": {},
     "output_type": "execute_result"
    }
   ],
   "source": [
    "df.columns"
   ]
  },
  {
   "cell_type": "code",
   "execution_count": 5,
   "metadata": {},
   "outputs": [
    {
     "data": {
      "text/plain": [
       "Female    78\n",
       "Male      73\n",
       "Name: Gender, dtype: int64"
      ]
     },
     "execution_count": 5,
     "metadata": {},
     "output_type": "execute_result"
    }
   ],
   "source": [
    "df.Gender.value_counts()"
   ]
  },
  {
   "cell_type": "markdown",
   "metadata": {},
   "source": [
    "# Chi-square Test of Independence / Association"
   ]
  },
  {
   "cell_type": "markdown",
   "metadata": {},
   "source": [
    "### Hypothesis\n",
    "\n",
    "* Ho:- There is no relationship between the Gender and Better Service Provider ( independent )\n",
    "\n",
    "* H1:- There is relationship between the Gender and Better Service Provider ( dependent )"
   ]
  },
  {
   "cell_type": "code",
   "execution_count": 6,
   "metadata": {},
   "outputs": [
    {
     "data": {
      "text/html": [
       "<div>\n",
       "<style scoped>\n",
       "    .dataframe tbody tr th:only-of-type {\n",
       "        vertical-align: middle;\n",
       "    }\n",
       "\n",
       "    .dataframe tbody tr th {\n",
       "        vertical-align: top;\n",
       "    }\n",
       "\n",
       "    .dataframe thead tr th {\n",
       "        text-align: left;\n",
       "    }\n",
       "\n",
       "    .dataframe thead tr:last-of-type th {\n",
       "        text-align: right;\n",
       "    }\n",
       "</style>\n",
       "<table border=\"1\" class=\"dataframe\">\n",
       "  <thead>\n",
       "    <tr>\n",
       "      <th></th>\n",
       "      <th colspan=\"5\" halign=\"left\">Better Service Provider</th>\n",
       "    </tr>\n",
       "    <tr>\n",
       "      <th>Better Service Provider</th>\n",
       "      <th>Both provide equal quality</th>\n",
       "      <th>None of the above</th>\n",
       "      <th>Ola</th>\n",
       "      <th>Uber</th>\n",
       "      <th>All</th>\n",
       "    </tr>\n",
       "    <tr>\n",
       "      <th>Gender</th>\n",
       "      <th></th>\n",
       "      <th></th>\n",
       "      <th></th>\n",
       "      <th></th>\n",
       "      <th></th>\n",
       "    </tr>\n",
       "  </thead>\n",
       "  <tbody>\n",
       "    <tr>\n",
       "      <th>Female</th>\n",
       "      <td>28</td>\n",
       "      <td>5</td>\n",
       "      <td>25</td>\n",
       "      <td>20</td>\n",
       "      <td>78</td>\n",
       "    </tr>\n",
       "    <tr>\n",
       "      <th>Male</th>\n",
       "      <td>29</td>\n",
       "      <td>1</td>\n",
       "      <td>26</td>\n",
       "      <td>17</td>\n",
       "      <td>73</td>\n",
       "    </tr>\n",
       "    <tr>\n",
       "      <th>All</th>\n",
       "      <td>57</td>\n",
       "      <td>6</td>\n",
       "      <td>51</td>\n",
       "      <td>37</td>\n",
       "      <td>151</td>\n",
       "    </tr>\n",
       "  </tbody>\n",
       "</table>\n",
       "</div>"
      ],
      "text/plain": [
       "                           Better Service Provider                             \\\n",
       "Better Service Provider Both provide equal quality None of the above Ola Uber   \n",
       "Gender                                                                          \n",
       "Female                                          28                 5  25   20   \n",
       "Male                                            29                 1  26   17   \n",
       "All                                             57                 6  51   37   \n",
       "\n",
       "                              \n",
       "Better Service Provider  All  \n",
       "Gender                        \n",
       "Female                    78  \n",
       "Male                      73  \n",
       "All                      151  "
      ]
     },
     "execution_count": 6,
     "metadata": {},
     "output_type": "execute_result"
    }
   ],
   "source": [
    "table, results = rp.crosstab(df['Gender'], df['Better Service Provider'], test = 'chi-square') \n",
    "    \n",
    "table"
   ]
  },
  {
   "cell_type": "code",
   "execution_count": 7,
   "metadata": {},
   "outputs": [
    {
     "data": {
      "text/html": [
       "<div>\n",
       "<style scoped>\n",
       "    .dataframe tbody tr th:only-of-type {\n",
       "        vertical-align: middle;\n",
       "    }\n",
       "\n",
       "    .dataframe tbody tr th {\n",
       "        vertical-align: top;\n",
       "    }\n",
       "\n",
       "    .dataframe thead th {\n",
       "        text-align: right;\n",
       "    }\n",
       "</style>\n",
       "<table border=\"1\" class=\"dataframe\">\n",
       "  <thead>\n",
       "    <tr style=\"text-align: right;\">\n",
       "      <th></th>\n",
       "      <th>Chi-square test</th>\n",
       "      <th>results</th>\n",
       "    </tr>\n",
       "  </thead>\n",
       "  <tbody>\n",
       "    <tr>\n",
       "      <th>0</th>\n",
       "      <td>Pearson Chi-square ( 3.0) =</td>\n",
       "      <td>2.7846</td>\n",
       "    </tr>\n",
       "    <tr>\n",
       "      <th>1</th>\n",
       "      <td>p-value =</td>\n",
       "      <td>0.4260</td>\n",
       "    </tr>\n",
       "    <tr>\n",
       "      <th>2</th>\n",
       "      <td>Cramer's V =</td>\n",
       "      <td>0.1358</td>\n",
       "    </tr>\n",
       "  </tbody>\n",
       "</table>\n",
       "</div>"
      ],
      "text/plain": [
       "                Chi-square test  results\n",
       "0  Pearson Chi-square ( 3.0) =    2.7846\n",
       "1                    p-value =    0.4260\n",
       "2                 Cramer's V =    0.1358"
      ]
     },
     "execution_count": 7,
     "metadata": {},
     "output_type": "execute_result"
    }
   ],
   "source": [
    "results"
   ]
  },
  {
   "cell_type": "markdown",
   "metadata": {},
   "source": [
    "### Conclusion\n",
    "* There is no relationship between the Gender and Better Service Provider ( Independent )"
   ]
  },
  {
   "cell_type": "markdown",
   "metadata": {},
   "source": [
    "# Chi-square Test Goodness of fit "
   ]
  },
  {
   "cell_type": "markdown",
   "metadata": {},
   "source": [
    "### Hypothesis\n",
    "\n",
    "* Ho:- The proportion of people selecting Ola, Uber & None is 44.7%, 42.7% & 12.7%, will not have different proportion in Sample\n",
    "\n",
    "* H1:- The proportion of people selecting Ola, Uber & None is 44.7%, 42.7% & 12.7%, will have different proportion in Sample"
   ]
  },
  {
   "cell_type": "code",
   "execution_count": 8,
   "metadata": {},
   "outputs": [],
   "source": [
    "import scipy.stats as stats"
   ]
  },
  {
   "cell_type": "code",
   "execution_count": 9,
   "metadata": {},
   "outputs": [],
   "source": [
    "def expected_value(n,p1,p2,p3):\n",
    "    e1 = n*p1\n",
    "    e2 = n*p2\n",
    "    e3 = n*p3\n",
    "    return list([e1,e2,e3])"
   ]
  },
  {
   "cell_type": "code",
   "execution_count": 10,
   "metadata": {},
   "outputs": [
    {
     "data": {
      "text/plain": [
       "[66.0, 63.0, 18.0]"
      ]
     },
     "execution_count": 10,
     "metadata": {},
     "output_type": "execute_result"
    }
   ],
   "source": [
    "expected_value(150,0.44,0.42,0.12)"
   ]
  },
  {
   "cell_type": "code",
   "execution_count": 11,
   "metadata": {},
   "outputs": [],
   "source": [
    "expected = (66,63,18)\n",
    "observed = (67,64,19)"
   ]
  },
  {
   "cell_type": "code",
   "execution_count": 12,
   "metadata": {},
   "outputs": [
    {
     "data": {
      "text/plain": [
       "Power_divergenceResult(statistic=0.08658008658008658, pvalue=0.9576335945841911)"
      ]
     },
     "execution_count": 12,
     "metadata": {},
     "output_type": "execute_result"
    }
   ],
   "source": [
    "stats.chisquare(f_exp = expected, f_obs = observed)"
   ]
  },
  {
   "cell_type": "markdown",
   "metadata": {},
   "source": [
    "### Conclusion\n",
    "\n",
    "The proportion of people selecting Ola, Uber & None is 44.7% , 42.7% & 12.7% will not have different proportion in Sample"
   ]
  },
  {
   "cell_type": "markdown",
   "metadata": {},
   "source": [
    "# Chi-Square Test of Homogeneity"
   ]
  },
  {
   "cell_type": "markdown",
   "metadata": {},
   "source": [
    "### Hypothesis\n",
    "\n",
    "* Ho:- The proportion of boys who prefer the Ola is identical to the proportion of girls\n",
    "* H0:- The proportion of boys who prefer the Uber is identical to the proportion of girls\n",
    "* H0:- The proportion of boys who prefer the None to the proportion of girls\n",
    "\n",
    "Vs \n",
    "\n",
    "* H1 :-  At least one of the null hypothesis statements is false."
   ]
  },
  {
   "cell_type": "code",
   "execution_count": 13,
   "metadata": {},
   "outputs": [
    {
     "data": {
      "text/html": [
       "<div>\n",
       "<style scoped>\n",
       "    .dataframe tbody tr th:only-of-type {\n",
       "        vertical-align: middle;\n",
       "    }\n",
       "\n",
       "    .dataframe tbody tr th {\n",
       "        vertical-align: top;\n",
       "    }\n",
       "\n",
       "    .dataframe thead tr th {\n",
       "        text-align: left;\n",
       "    }\n",
       "\n",
       "    .dataframe thead tr:last-of-type th {\n",
       "        text-align: right;\n",
       "    }\n",
       "</style>\n",
       "<table border=\"1\" class=\"dataframe\">\n",
       "  <thead>\n",
       "    <tr>\n",
       "      <th></th>\n",
       "      <th colspan=\"4\" halign=\"left\">Pocket friendly Service</th>\n",
       "    </tr>\n",
       "    <tr>\n",
       "      <th>Pocket friendly Service</th>\n",
       "      <th>None of the above</th>\n",
       "      <th>Ola</th>\n",
       "      <th>Uber</th>\n",
       "      <th>All</th>\n",
       "    </tr>\n",
       "    <tr>\n",
       "      <th>Gender</th>\n",
       "      <th></th>\n",
       "      <th></th>\n",
       "      <th></th>\n",
       "      <th></th>\n",
       "    </tr>\n",
       "  </thead>\n",
       "  <tbody>\n",
       "    <tr>\n",
       "      <th>Female</th>\n",
       "      <td>11</td>\n",
       "      <td>31</td>\n",
       "      <td>36</td>\n",
       "      <td>78</td>\n",
       "    </tr>\n",
       "    <tr>\n",
       "      <th>Male</th>\n",
       "      <td>8</td>\n",
       "      <td>37</td>\n",
       "      <td>28</td>\n",
       "      <td>73</td>\n",
       "    </tr>\n",
       "    <tr>\n",
       "      <th>All</th>\n",
       "      <td>19</td>\n",
       "      <td>68</td>\n",
       "      <td>64</td>\n",
       "      <td>151</td>\n",
       "    </tr>\n",
       "  </tbody>\n",
       "</table>\n",
       "</div>"
      ],
      "text/plain": [
       "                        Pocket friendly Service              \n",
       "Pocket friendly Service       None of the above Ola Uber  All\n",
       "Gender                                                       \n",
       "Female                                       11  31   36   78\n",
       "Male                                          8  37   28   73\n",
       "All                                          19  68   64  151"
      ]
     },
     "execution_count": 13,
     "metadata": {},
     "output_type": "execute_result"
    }
   ],
   "source": [
    "table, results = rp.crosstab(df['Gender'], df['Pocket friendly Service'], test= 'chi-square') #,prop='row')\n",
    "    \n",
    "table"
   ]
  },
  {
   "cell_type": "code",
   "execution_count": 14,
   "metadata": {},
   "outputs": [
    {
     "data": {
      "text/html": [
       "<div>\n",
       "<style scoped>\n",
       "    .dataframe tbody tr th:only-of-type {\n",
       "        vertical-align: middle;\n",
       "    }\n",
       "\n",
       "    .dataframe tbody tr th {\n",
       "        vertical-align: top;\n",
       "    }\n",
       "\n",
       "    .dataframe thead th {\n",
       "        text-align: right;\n",
       "    }\n",
       "</style>\n",
       "<table border=\"1\" class=\"dataframe\">\n",
       "  <thead>\n",
       "    <tr style=\"text-align: right;\">\n",
       "      <th></th>\n",
       "      <th>Chi-square test</th>\n",
       "      <th>results</th>\n",
       "    </tr>\n",
       "  </thead>\n",
       "  <tbody>\n",
       "    <tr>\n",
       "      <th>0</th>\n",
       "      <td>Pearson Chi-square ( 2.0) =</td>\n",
       "      <td>1.8396</td>\n",
       "    </tr>\n",
       "    <tr>\n",
       "      <th>1</th>\n",
       "      <td>p-value =</td>\n",
       "      <td>0.3986</td>\n",
       "    </tr>\n",
       "    <tr>\n",
       "      <th>2</th>\n",
       "      <td>Cramer's V =</td>\n",
       "      <td>0.1104</td>\n",
       "    </tr>\n",
       "  </tbody>\n",
       "</table>\n",
       "</div>"
      ],
      "text/plain": [
       "                Chi-square test  results\n",
       "0  Pearson Chi-square ( 2.0) =    1.8396\n",
       "1                    p-value =    0.3986\n",
       "2                 Cramer's V =    0.1104"
      ]
     },
     "execution_count": 14,
     "metadata": {},
     "output_type": "execute_result"
    }
   ],
   "source": [
    "results"
   ]
  },
  {
   "cell_type": "markdown",
   "metadata": {},
   "source": [
    "### Conclusion\n",
    "* The proportion of boys who prefer the Ola, Uber or None is identical to the proportion of girls."
   ]
  }
 ],
 "metadata": {
  "kernelspec": {
   "display_name": "Python 3",
   "language": "python",
   "name": "python3"
  },
  "language_info": {
   "codemirror_mode": {
    "name": "ipython",
    "version": 3
   },
   "file_extension": ".py",
   "mimetype": "text/x-python",
   "name": "python",
   "nbconvert_exporter": "python",
   "pygments_lexer": "ipython3",
   "version": "3.8.3"
  }
 },
 "nbformat": 4,
 "nbformat_minor": 4
}
